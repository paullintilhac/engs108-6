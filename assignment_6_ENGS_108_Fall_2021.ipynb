{
 "cells": [
  {
   "cell_type": "markdown",
   "metadata": {
    "colab_type": "text",
    "id": "view-in-github"
   },
   "source": [
    "<a href=\"https://colab.research.google.com/github/yakaboskic/ENGS_108_Fall_2020/blob/master/assign_6_ENGS_108_Fall_2020.ipynb\" target=\"_parent\"><img src=\"https://colab.research.google.com/assets/colab-badge.svg\" alt=\"Open In Colab\"/></a>"
   ]
  },
  {
   "cell_type": "markdown",
   "metadata": {
    "id": "5BiHNk7HcRiL"
   },
   "source": [
    "# **ENGS 108 Fall 2021 Assignment 6**\n",
    "\n",
    "*Due October 23 2021\n",
    "\n",
    "**Instructors:** George Cybenko\n",
    "\n",
    "**TAs:** Clement Nyanhongo, Jack Sadoff\n",
    "\n",
    "\n",
    "---\n",
    "\n",
    "## **Rules and Requirements**\n",
    "\n",
    "\n",
    "1.   You are only allowed to use Python packages that are explicity imported in \n",
    "the assignment notebook or are standard (bultin) python libraries like random, os, sys, etc, (Standard Bultin Python libraries will have a Python.org documentation). For this assignment you may use:\n",
    "  *   [numpy](https://numpy.org/doc/stable/)\n",
    "  *   [pandas](https://pandas.pydata.org/pandas-docs/stable/index.html)\n",
    "  *   [scikit-learn](https://scikit-learn.org/stable/)\n",
    "  *   [matplotlib](https://matplotlib.org/)\n",
    "  *   [tensorflow](https://www.tensorflow.org/)\n",
    "\n",
    "2.   All code must be fit into the designated code or text blocks in the assignment notebook. They are indentified by a **TODO** qualifier.\n",
    "\n",
    "3. For analytical questions that don't require code, type your answer cleanly in Markdown. For help, see the [Google Colab Markdown Guide](https://colab.research.google.com/notebooks/markdown_guide.ipynb).\n",
    "\n",
    "---"
   ]
  },
  {
   "cell_type": "code",
   "execution_count": 1,
   "metadata": {
    "id": "_KqjPtWlcFnS"
   },
   "outputs": [],
   "source": [
    "''' Import Statements '''\n",
    "from collections import defaultdict\n",
    "import copy\n",
    "import itertools\n",
    "\n",
    "import random\n",
    "# Don't mess with this (gives reproducible results)\n",
    "random.seed(444)"
   ]
  },
  {
   "cell_type": "markdown",
   "metadata": {
    "id": "0otRQ4_CcxP4"
   },
   "source": [
    "## **Problem 1: Reinforcement Learning**\n",
    "In this problem we will play a game of cops and robbers. The game is played on a fixed undirected, simple, and finite graph $G$. There are two players, a cop and a robber. It is the goal of the cop to catch the robber in as few moves as possible. \n",
    "\n",
    "The graph $G$ has the following properties:\n",
    "  - A total of $m$ nodes.\n",
    "  - It contains a single $n$ node cycle, where $n\\leq m$, and random additional edges to make the graph connected.\n",
    "\n",
    "The game starts, with the cop taking their choice of vertex in $G$ and then the robber selects a random vertex in $G$ that is not occupied by the cop. At every point in the game both players know the positions of each other, and in this version of the problem we will say that the robber is drunk (i.e. they will randomly choose there next that instead of employing a policy).\n",
    "\n",
    "The availabe actions of the cop and associated reward function is:\n",
    "  - Move to a node not connected to their present node (and the cop stays in the current position): -5.\n",
    "  - Move to an adjacent node (including staying at current node): -1.\n",
    "  - Move to the node occupied by robber: +100.\n",
    ">\n",
    "> **Part 1** Building a Graph Class.\n",
    ">> **(a)** Using the provided skeleton build a general graph class for this problem for $n$ nodes. You are expected to implement *add_edge*, *make_random_graph*, *check_connected*."
   ]
  },
  {
   "cell_type": "code",
   "execution_count": 176,
   "metadata": {
    "id": "jaHjFProBqKc"
   },
   "outputs": [],
   "source": [
    "import collections\n",
    "import copy\n",
    "import random\n",
    "import collections\n",
    "import networkx as nx \n",
    "import matplotlib.pyplot as plt\n",
    "\n",
    "class Graph:\n",
    "  \"\"\" Our graph class.\n",
    "  Args:\n",
    "    n: Number of nodes in our cycle.\n",
    "    m: Total number of nodes in graph, where n >= m.\n",
    "  \"\"\"\n",
    "  def __init__(self, n, m):\n",
    "        \n",
    "    if (n > m):\n",
    "        raise Exception(\"n <= m must be true\")\n",
    "    self.n = n\n",
    "    self.m = m\n",
    "    \n",
    "    # A default dict is just a dict that won't raise a KeyError, it instead fills\n",
    "    # the unknown key with a default, in our case an empty list.\n",
    "    self.G = collections.defaultdict(list)\n",
    "\n",
    "  def add_edge(self, u, v):\n",
    "    \"\"\"\n",
    "    Make a function that will add an edge to the graph.\n",
    "    \"\"\"\n",
    "    if (u>self.m-1 or v>self.m-1):\n",
    "        raise Exception(\"node ids for new edge must both be less than \" + str(self.m))\n",
    "\n",
    "    self.G[u].append(v)\n",
    "\n",
    "\n",
    "  def make_random_graph(self):\n",
    "    \"\"\" First make a cycle of given length and then add random additional edges\n",
    "    in such a way that the final graph will be connected.\n",
    "    \"\"\"\n",
    "    #TODO: Make n length cycle first\n",
    "    count=0\n",
    "    #make a chain of the first n \n",
    "    prevIndex = random.choice(range(self.m))\n",
    "    #print(\"prevIndex: \" + str(prevIndex))\n",
    "    remaining_choices = range(self.m)\n",
    "    #print(\"remaining choices: \"+str(remaining_choices))\n",
    "    remaining_choices.remove(prevIndex)\n",
    "    #print(\"remaining choices: \"+str(remaining_choices))\n",
    "\n",
    "    originalIndex=prevIndex\n",
    "    for i in range(self.n-1):\n",
    "        nextIndex = random.choice(remaining_choices)\n",
    "        self.G[prevIndex].append(nextIndex)\n",
    "        prevIndex = nextIndex\n",
    "        remaining_choices.remove(prevIndex)\n",
    "        #print(\"remaining choices: \"+str(remaining_choices))\n",
    "\n",
    "    #connect head and tail of chain\n",
    "    self.G[nextIndex].append(originalIndex)\n",
    "    \n",
    "    \n",
    "    #TODO: Add additional nodes until random graph is connected\n",
    "    while True:\n",
    "      _graph = copy.copy(self)\n",
    "      uNew = random.randint(0,self.m-1)\n",
    "      vNew = random.randint(0,self.m-1)\n",
    "      _graph.G[uNew].append(vNew) if vNew not in _graph.G[uNew] else _graph.G[uNew]\n",
    "\n",
    "      if self.check_connected(_graph):\n",
    "        # If it is set the current graph's adjacency matrix equal to the copy's.\n",
    "        self.graph = _graph.G\n",
    "        # Return (i.e. break the loop)\n",
    "        return True\n",
    "\n",
    "  def check_connected(self, G):\n",
    "    \"\"\" Perform a Depth First Search.\n",
    "    \"\"\"\n",
    "    start_node = random.choice(list(G.G.keys()))\n",
    "    return dfs(G, [], start_node)\n",
    "\n",
    "#note that \"parent\" param is not strictly necessary\n",
    "#as long as we check whether a child node is already\n",
    "#in the listed of visited nodes before calling the \n",
    "#recursive function on it\n",
    "\n",
    "def dfs(G, visited, u):\n",
    "    \"\"\" Implement your own depth first search. Many online resources for this.\n",
    "    Args:\n",
    "    G: Is the graph (adjency matrix) we want to test.\n",
    "    visited: Is a dictionary that keeps track of the nodes you've visited.\n",
    "    u: a starting node.\n",
    "    Returns:\n",
    "    True: If all nodes have been visited at least once.\n",
    "    False: Otherwise.\n",
    "    \"\"\"\n",
    "    adjacent_nodes = G.G[u]\n",
    "    for node in adjacent_nodes:\n",
    "        if node not in visited:\n",
    "            visited.append(node)\n",
    "            dfs(G,visited,node)\n",
    "    if len(visited)==G.m:\n",
    "        return(True)\n",
    "    else: return(False)\n",
    "\n"
   ]
  },
  {
   "cell_type": "markdown",
   "metadata": {
    "id": "vc44XK7_JEYO"
   },
   "source": [
    ">> **(b)** Test out your graph class with a cops and robbers graph of $n=5$ and $m=10$."
   ]
  },
  {
   "cell_type": "code",
   "execution_count": 177,
   "metadata": {
    "id": "pKxMuq_7BkGP"
   },
   "outputs": [
    {
     "data": {
      "image/png": "[encoded data removed]",
      "text/plain": [
       "<matplotlib.figure.Figure at 0x7fbb6d19d710>"
      ]
     },
     "metadata": {},
     "output_type": "display_data"
    }
   ],
   "source": [
    "g = Graph(5,10)\n",
    "g.make_random_graph()\n",
    "\n",
    "plotGraph = nx.DiGraph() \n",
    "\n",
    "for i in range(g.m): \n",
    " for j in range( g.m): \n",
    "   if j in g.G[i]: \n",
    "      plotGraph.add_edge(i,j) \n",
    "nx.draw( plotGraph) \n",
    "plt.show() "
   ]
  },
  {
   "cell_type": "markdown",
   "metadata": {
    "id": "xTuchWzJJaxk"
   },
   "source": [
    "> **Part 2** Understanding the state space, i.e. the Game.\n",
    ">> **(a)** Given the graph class you've created in Part 1. Develop a Cops and Robbers game class. Use the skeleton below to implement the following functions first: *get_successors*, *terminal_test*, *result*. \n"
   ]
  },
  {
   "cell_type": "code",
   "execution_count": 178,
   "metadata": {
    "id": "5qBoFrNDBT9y"
   },
   "outputs": [
    {
     "data": {
      "text/plain": [
       "True"
      ]
     },
     "execution_count": 178,
     "metadata": {},
     "output_type": "execute_result"
    }
   ],
   "source": [
    "class CopsAndRobbers:\n",
    "  def __init__(self, graph, start_state, rewards_table=None):\n",
    "    \"\"\" This is the cops and robbers game class.\n",
    "    Args:\n",
    "      start_state: The starting state of the cop position and robber position in\n",
    "        the graph. Should be a tuple of form (cop_pos, rob_pos).\n",
    "      G: The graph adjacency matrix\n",
    "      state: current state in the game.\n",
    "      reward_table: The (state, actions) reward dictionary that you will eventually implement.\n",
    "    \"\"\"\n",
    "    self.graph = graph\n",
    "    self.G = graph.G\n",
    "    self.state = start_state\n",
    "    self.rewards_table = rewards_table\n",
    "\n",
    "  def terminal_test(self, state):\n",
    "    \"\"\"test for terminal condition\"\"\"\n",
    "    if (state[0]==state[1]): \n",
    "        #print(\"state[0]: \" + str(state[0]) + \", state[1]: \" + str(state[1]))\n",
    "        return(True)\n",
    "    else: return(False)\n",
    "    \n",
    "  def get_successors(self, state):\n",
    "    \"\"\" Return a list of successor states that can be reached from the current state.\n",
    "    Hint: Remember only the cop can choose their action.\n",
    "    \"\"\"\n",
    "    copNextStates = self.G[state[0]]\n",
    "    #cop should be able to stay still\n",
    "    copNextStates.append(state[0]) if state[0] not in copNextStates else copNextStates\n",
    "    \n",
    "    successorStates = []\n",
    "    for i in copNextStates:\n",
    "        successorStates.append((i,state[1]))\n",
    "    return(successorStates)\n",
    "\n",
    "  def get_successors_robber(self, state):\n",
    "    \"\"\" Return a list of successor states that can be reached from the current state after the robber moves.\n",
    "    \"\"\"\n",
    "    robNextStates = self.G[state[1]]\n",
    "    #robber should be able to stay still\n",
    "    robNextStates.append(state[1]) if state[1] not in robNextStates else robNextStates\n",
    "    \n",
    "    successorStates = []\n",
    "    for i in robNextStates:\n",
    "        successorStates.append((state[0],i))\n",
    "    return(successorStates)\n",
    "\n",
    "  def result(self, next_state):\n",
    "    \"\"\" This function should return the state after the cop has made their move,\n",
    "    and the drunk robber has moved accordingly.\n",
    "    Args:\n",
    "      state: Current state of (cop, rob).\n",
    "      next_state: The state after the cop has moved (next_cop, rob). Calculated from get_successors.\n",
    "    \"\"\"\n",
    "    \n",
    "    successorStates = self.get_successors_robber(next_state)\n",
    "    #print(\"robber successor states: \" + str(successorStates))\n",
    "    final_state = random.choice(successorStates)\n",
    "    #print(\"robber moved from \" + str(next_state) + \" to \" + str(final_state))\n",
    "    return(final_state)\n",
    "\n",
    "  #I'm not going to use this function. Because in order for it to be useful, this should \n",
    "  # be based on the calculate_rewaard_table method, which is not defined yet. So unless I\n",
    "  #re-arranged the questions, I would have to re-define this class again using that function!\n",
    "  def utility(self, state, action):\n",
    "    return self.rewards_table[(state, action)]\n",
    "\n",
    "CR = CopsAndRobbers(g,(0,1))\n",
    "CR.get_successors(CR.state)\n",
    "CR.terminal_test((1,1))"
   ]
  },
  {
   "cell_type": "markdown",
   "metadata": {
    "id": "x-YjCqNsXOKG"
   },
   "source": [
    ">> **(b)** In reinforcement learning we are often interested in calculating a rewards table that has possible states as its rows and possible actions as its columns and filled in with the associated reward given the Q(state, action) pair. Calculate the rewards table for any given graph. *Hint: This should be an $m^2$ x $m$ matrix or a dictionary with $m^3$ keys such that the keys are (state, action) tuples.*  "
   ]
  },
  {
   "cell_type": "code",
   "execution_count": 179,
   "metadata": {
    "id": "F61FjlM__wEg"
   },
   "outputs": [],
   "source": [
    "def calculateRewardsTable(graph):\n",
    "  \"\"\" Make a rewards table dictionary of the from table[(state, action)] = reward. recall:\n",
    "  The availabe actions of the cop and associated reward function is:\n",
    "\n",
    "  Move to a node not connected to their present node (and the cop stays in the current position): -5.\n",
    "  Move to an adjacent node (including staying at current node): -1.\n",
    "  Move to the node occupied by robber: +100.\n",
    "  \"\"\"\n",
    "  table = collections.defaultdict(list)\n",
    "  for c_state_ind in range(graph.m):\n",
    "    for r_state_ind in range(graph.m):\n",
    "        for action in range(graph.m):\n",
    "            reward = 0\n",
    "            cop_robber = (c_state_ind,r_state_ind)\n",
    "            if action in graph.G[c_state_ind]:\n",
    "                if (action==r_state_ind):\n",
    "                    reward=100\n",
    "                else: reward=-1\n",
    "            else:\n",
    "                if (c_state_ind==r_state_ind):\n",
    "                    reward=100\n",
    "                else: reward = -5\n",
    "            table[(cop_robber,action)]=reward\n",
    "  return table\n",
    "\n"
   ]
  },
  {
   "cell_type": "markdown",
   "metadata": {
    "id": "EU0Hq2C8bocS"
   },
   "source": [
    ">> **(c)** Now that we have our reward table, try to solve the problem in a brute-force manner (without reinforcement learning). I.e. try to reach the terminal state, or find get a reward of 100. "
   ]
  },
  {
   "cell_type": "code",
   "execution_count": 181,
   "metadata": {
    "id": "GysY6hjZ_Iu5"
   },
   "outputs": [
    {
     "name": "stdout",
     "output_type": "stream",
     "text": [
      "defaultdict(<type 'list'>, {0: [2, 6, 0, 7], 1: [6, 1], 2: [1], 3: [9], 4: [0, 6], 5: [6], 6: [4, 5, 3], 7: [3], 8: [8, 1], 9: [6]})\n",
      "epoch #1\n",
      "previousState: (1, 8)\n",
      "reward: -5\n",
      "attemptedNextState: (9, 8)\n",
      "cop successors: [(6, 8), (1, 8)]\n",
      "attempted to move cop from 1 to non-adjacent node 9\n",
      "next state: (1, 8)\n",
      "epoch #2\n",
      "previousState: (1, 8)\n",
      "reward: -5\n",
      "attemptedNextState: (0, 8)\n",
      "cop successors: [(6, 8), (1, 8)]\n",
      "attempted to move cop from 1 to non-adjacent node 0\n",
      "next state: (1, 8)\n",
      "epoch #3\n",
      "previousState: (1, 8)\n",
      "reward: -5\n",
      "attemptedNextState: (0, 8)\n",
      "cop successors: [(6, 8), (1, 8)]\n",
      "attempted to move cop from 1 to non-adjacent node 0\n",
      "next state: (1, 8)\n",
      "epoch #4\n",
      "previousState: (1, 8)\n",
      "reward: -5\n",
      "attemptedNextState: (3, 8)\n",
      "cop successors: [(6, 8), (1, 8)]\n",
      "attempted to move cop from 1 to non-adjacent node 3\n",
      "next state: (1, 8)\n",
      "epoch #5\n",
      "previousState: (1, 8)\n",
      "reward: 100\n",
      "attemptedNextState: (7, 1)\n",
      "cop successors: [(6, 8), (1, 8)]\n",
      "attempted to move cop from 1 to non-adjacent node 7\n",
      "next state: (1, 1)\n",
      "rewards: 80, # epochs to terminate: 5\n"
     ]
    }
   ],
   "source": [
    "\n",
    "cr = CopsAndRobbers(g,(1,8))\n",
    "def simulate_random(cr_temp,verbose=False):\n",
    "# Simulation loop\n",
    "    epochs=0\n",
    "    rewards = []\n",
    "    penalties = 0\n",
    "    rTable = calculateRewardsTable(cr_temp.graph)\n",
    "\n",
    "    while True:\n",
    "        epochs=epochs+1\n",
    "        \n",
    "        previousState = cr_temp.state\n",
    "        if verbose:\n",
    "            print(\"epoch #\" + str(epochs))\n",
    "            print(\"previousState: \" + str(previousState))\n",
    "        attemptedNextCopState = random.choice(range(cr_temp.graph.m))\n",
    "        \n",
    "        nextStateWithoutRobberMoving = (attemptedNextCopState,previousState[1])\n",
    "        #optimistically set next cop state\n",
    "        #if cop moved to non-adjacent node, reset their position\n",
    "        attemptedNextState = cr_temp.result(nextStateWithoutRobberMoving)\n",
    "        #we need attemptedNextStateWithoutCopMoving in order to calculate the appropriate reward \n",
    "        #after the cop's action calculate reward based on previous state of cops and robbers and new state of cop\n",
    "        attemptedNextStateWithoutCopMoving = (previousState[0],attemptedNextState[1])\n",
    "        \n",
    "        # in order to calculate reward based on both the cop's action and the \n",
    "        # robber's simultaneous random reaction, we take reward((old_cop_state,new_robber_state),new_cop_state)\n",
    "        reward = rTable[attemptedNextStateWithoutCopMoving,attemptedNextState[0]]\n",
    "        if verbose:\n",
    "            print(\"reward: \" + str(reward))\n",
    "            print(\"attemptedNextState: \" + str(attemptedNextState))\n",
    "        rewards.append(reward)\n",
    "\n",
    "        # note that we could just as well skip the getSuccessors functionality entirely,\n",
    "        # and just check whether the reward is 0 before re-setting. but I opted to use that function.\n",
    "        \n",
    "        # get successor states where robber is the same as current (robber hasn't moved yet)\n",
    "        cSuccessors = cr_temp.get_successors(previousState)\n",
    "        if verbose:\n",
    "            print(\"cop successors: \" + str(cSuccessors))\n",
    "        nextState = attemptedNextState\n",
    "        if (attemptedNextCopState,previousState[1]) not in cSuccessors:\n",
    "            allowedCopTransition = True\n",
    "            nextState = (previousState[0],nextState[1])\n",
    "            if verbose:\n",
    "                print(\"attempted to move cop from \" + str(previousState[0]) + \" to non-adjacent node \" + str(attemptedNextCopState))\n",
    "        else:\n",
    "            if verbose:\n",
    "                print(\"moved cop from \" + str(previousState[0]) + \" to adjacent node \" + str(attemptedNextCopState))\n",
    "\n",
    "            \n",
    "        if verbose:\n",
    "            print(\"next state: \" + str(nextState))\n",
    "        cr_temp.state = nextState\n",
    "        \n",
    "        if (cr_temp.terminal_test(nextState)):\n",
    "            break\n",
    "    return(rewards,epochs)\n",
    "\n",
    "rewards,term = simulate_random(cr,verbose=True)\n",
    "print(\"rewards: \" + str(sum(rewards)) + \", # epochs to terminate: \" + str(term))"
   ]
  },
  {
   "cell_type": "markdown",
   "metadata": {
    "id": "ec8eFd77jdiV"
   },
   "source": [
    "> **Part 3** Q-learning. \n",
    ">\n",
    "> Up to this point we have build a graph class, built a game class, ran a brute-force simulation of an agent traversing the space randomly, and now we will dive into Q-learning in the hopes of maximizing the rewards and efficiency of capturing the drunk robber. \n",
    ">\n",
    ">> **(a)** Using the skeleton from the brute force method, implement a training loop to learn a Q-table for a given graph and game. "
   ]
  },
  {
   "cell_type": "code",
   "execution_count": 182,
   "metadata": {
    "id": "FhpxYwKn-rIa"
   },
   "outputs": [],
   "source": [
    "class QTable:\n",
    "    def __init__(self,graph,alpha=.1,gamma=.1):\n",
    "        self.n_states = graph.m\n",
    "        self.RTable = calculateRewardsTable(graph)\n",
    "        #initialize q table\n",
    "        table = collections.defaultdict(list)\n",
    "        for c_state_ind in range(graph.m):\n",
    "            for r_state_ind in range(graph.m):\n",
    "                for action in range(graph.m):\n",
    "                    cop_robber = (c_state_ind,r_state_ind)\n",
    "                    table[(cop_robber,action)]=0\n",
    "        self.QTable = table\n",
    "        self.alpha = alpha\n",
    "        self.gamma = gamma\n",
    "        \n",
    "    def setQTable(self,state,action,value):\n",
    "        #print(\"setting qtable value for state \" + str(state) + \" and action \" + str(action) + \" to \" + str(value))\n",
    "        self.QTable[state,action]=value\n",
    "\n",
    "      \n",
    "    \n"
   ]
  },
  {
   "cell_type": "markdown",
   "metadata": {
    "id": "6FVu7FlNk3IA"
   },
   "source": [
    ">> **(b)** Evalute your new Q-learning agent over a 100 epochs, by choosing your actions based on the argmax of the Q-table caluculated in (a) and report the average number of penalities, average time, and average number of steps it took to find the robber with your new Q-learning strategy. "
   ]
  },
  {
   "cell_type": "code",
   "execution_count": 174,
   "metadata": {
    "id": "zqnDZQ3C-1qE"
   },
   "outputs": [
    {
     "name": "stdout",
     "output_type": "stream",
     "text": [
      "prevIndex: 7\n",
      "remaining choices: [0, 1, 2, 3, 4, 5, 6, 7, 8, 9]\n",
      "remaining choices: [0, 1, 2, 3, 4, 5, 6, 8, 9]\n",
      "remaining choices: [0, 2, 3, 4, 5, 6, 8, 9]\n",
      "remaining choices: [2, 3, 4, 5, 6, 8, 9]\n",
      "remaining choices: [3, 4, 5, 6, 8, 9]\n",
      "remaining choices: [3, 4, 5, 6, 8]\n",
      "defaultdict(<type 'list'>, {0: [2, 0], 1: [0, 7, 3], 2: [9, 7, 4, 8, 6], 3: [2, 5], 4: [3, 8, 2], 5: [], 6: [9], 7: [1, 2, 4], 8: [7], 9: [7, 8, 0, 1]})\n"
     ]
    }
   ],
   "source": [
    "g2 = Graph(5,10)\n",
    "g2.make_random_graph()\n",
    "print(str(g2.G))"
   ]
  },
  {
   "cell_type": "code",
   "execution_count": 184,
   "metadata": {},
   "outputs": [
    {
     "name": "stdout",
     "output_type": "stream",
     "text": [
      "epoch #1\n",
      "previous state: (0, 1)\n",
      "best action: 0\n",
      "reward: -1\n",
      "cop successors: [(2, 1), (0, 1)]\n",
      "next state: (0, 7)\n",
      "moved cop from 0 to adjacent node 0\n",
      "setting new q value for state (0, 1) and action 0: -0.5\n",
      "epoch #2\n",
      "previous state: (0, 1)\n",
      "best action: 1\n",
      "reward: -5\n",
      "cop successors: [(2, 1), (0, 1)]\n",
      "next state: (1, 3)\n",
      "attempted to move cop from 0 to non-adjacent node 1\n",
      "setting new q value for state (0, 1) and action 0: -2.5\n",
      "epoch #3\n",
      "previous state: (0, 1)\n",
      "best action: 1\n",
      "reward: 100\n",
      "cop successors: [(2, 1), (0, 1)]\n",
      "next state: (1, 0)\n",
      "attempted to move cop from 0 to non-adjacent node 1\n",
      "setting new q value for state (0, 1) and action 0: 50.0\n",
      "rewards: [-1, -5, 100], epochs to terminate: 3\n"
     ]
    }
   ],
   "source": [
    "cr2 = CopsAndRobbers(g2,(0,1))\n",
    "def QLearningSim(cr_temp,verbose=False):\n",
    "    epochs = 0\n",
    "    rewards = []\n",
    "    penalties = 0\n",
    "    rTable = calculateRewardsTable(cr_temp.graph)\n",
    "    qTable= QTable(cr_temp.graph,alpha=.5,gamma=.5)\n",
    "    # Simulation loop\n",
    "    while True:\n",
    "        epochs=epochs+1\n",
    "        if verbose:\n",
    "            print(\"epoch #\" + str(epochs))\n",
    "        previousState = cr_temp.state\n",
    "\n",
    "        if verbose:\n",
    "            print(\"previous state: \" + str(previousState))\n",
    "        bestQVal = -10000\n",
    "        bestAction = None\n",
    "        for i in range(cr_temp.graph.m):\n",
    "            qVal = qTable.QTable[previousState,i]\n",
    "            if qVal>bestQVal:\n",
    "                bestQVal = qVal\n",
    "                bestAction = i\n",
    "        if verbose:\n",
    "            print(\"best action: \" + str(bestAction))\n",
    "\n",
    "        nextStateWithoutRobberMoving = (bestAction,previousState[1])\n",
    "        attemptedNextState = cr_temp.result(nextStateWithoutRobberMoving)\n",
    "        attemptedNextStateWithoutCopMoving = (previousState[0],attemptedNextState[1])\n",
    "        reward = rTable[attemptedNextStateWithoutCopMoving,attemptedNextState[0]]    \n",
    "        if verbose:\n",
    "            print(\"reward: \" + str(reward))\n",
    "        rewards.append(reward)\n",
    "\n",
    "        cSuccessors = cr_temp.get_successors(previousState)\n",
    "        nextState = attemptedNextState\n",
    "        if verbose:\n",
    "            print(\"cop successors: \" + str(cSuccessors))\n",
    "            print(\"next state: \" + str(nextState))\n",
    "        if (bestAction,previousState[1]) not in cSuccessors:\n",
    "            if verbose:\n",
    "                print(\"attempted to move cop from \" + str(previousState[0]) + \" to non-adjacent node \" + str(bestAction))\n",
    "            nextState = (previousState[0],nextState[1])\n",
    "        else: \n",
    "            if verbose: \n",
    "                print(\"moved cop from \" + str(previousState[0]) + \" to adjacent node \" + str(bestAction))\n",
    "\n",
    "\n",
    "        oldQVal = qTable.QTable[previousState,bestAction]\n",
    "\n",
    "        bestAction = None\n",
    "        highestQ = -1000000\n",
    "\n",
    "        for thisAction in range(cr_temp.graph.m):\n",
    "            thisQ = qTable.QTable[nextState,thisAction]\n",
    "            if thisQ>highestQ:\n",
    "                highestQ = thisQ\n",
    "                bestAction = thisAction\n",
    "\n",
    "        #print(\"self.alpha: \"+str(qTable.alpha)+ \", oldQVal: \" + str(oldQVal) + \", reward: \" + str(reward) + \", self.gamma: \" + str(qTable.gamma) + \", highestQ: \" + str(highestQ))\n",
    "        newQVal = (1-qTable.alpha)*oldQVal+qTable.alpha*(reward+qTable.gamma*highestQ)\n",
    "        if verbose:\n",
    "            print(\"setting new q value for state \"+str(previousState)+\" and action \" + str(bestAction) +\": \" + str(newQVal))    \n",
    "        qTable.setQTable(previousState,bestAction,newQVal)\n",
    "        if (cr_temp.terminal_test(nextState)):\n",
    "            break\n",
    "    return(rewards,epochs)\n",
    "rewards, term = QLearningSim(cr2,verbose=True)\n",
    "print(\"rewards: \" + str(rewards) + \", epochs to terminate: \" + str(term))"
   ]
  },
  {
   "cell_type": "markdown",
   "metadata": {
    "id": "CrpB9jKolvH_"
   },
   "source": [
    ">> **(c)** Compare your results with the brute-force method used in Part 2 and comment on the improvement. For instance, try varying graph configurations and look for any signs of improvement in certian instances. "
   ]
  },
  {
   "cell_type": "markdown",
   "metadata": {},
   "source": [
    "Note that the performance depends not only on the shape and size of the graph, but also very crucially on the initial positions of the cop and the robber. In order to really test which one is performing better, we should iterate over several random initial positions, running both algorithms on each, and then summarize the results. "
   ]
  },
  {
   "cell_type": "code",
   "execution_count": 221,
   "metadata": {
    "id": "l6b7G2mB_FIr"
   },
   "outputs": [
    {
     "name": "stdout",
     "output_type": "stream",
     "text": [
      "mean total rewards for random sim over 100 simulations: 74.62\n",
      "mean total rewards for q sim over 100 simulations: 93.08\n",
      "mean term for random sim over 100 simulations: 8.9\n",
      "mean term for q sim over 100 simulations: 3.0\n"
     ]
    }
   ],
   "source": [
    "import numpy as np\n",
    "def run_tests(n=4,n_sim=100):\n",
    "\n",
    "    test_graph = Graph(n,8)\n",
    "    test_graph.make_random_graph()\n",
    "    #print(str(test_graph.G))\n",
    "    \n",
    "    total_rewards_rand = []\n",
    "    terms_rand = []\n",
    "    total_rewards_q = []\n",
    "    terms_q = []\n",
    "\n",
    "    for i in range(n_sim):\n",
    "        initialCop = random.choice(range(test_graph.m))\n",
    "        newList = range(test_graph.m)\n",
    "        #print(\"newList: \" + str(newList))\n",
    "        newList.remove(initialCop)\n",
    "        #print(\"newList2: \" + str(newList))\n",
    "\n",
    "        initialRobber = random.choice(newList)\n",
    "        \n",
    "        #print(\"initial cop: \" + str(initialCop) + \", initialRobber: \" + str(initialRobber))\n",
    "        #cr3 = CopsAndRobbers(test_graph,(initialCop,initialRobber),rTable2)\n",
    "        cr3 = CopsAndRobbers(test_graph,(initialCop,initialRobber))\n",
    "\n",
    "        random_sim_rewards,random_sim_term = simulate_random(cr3,verbose=False)\n",
    "        total_rewards_rand.append(sum(random_sim_rewards))\n",
    "        terms_rand.append(random_sim_term)\n",
    "        #print(\"random sim total reward: \" + str(sum(random_sim_rewards)) + \", random sim epochs: \" + str(random_sim_term))\n",
    "        q_sim_rewards,q_sim_term = QLearningSim(cr3,verbose = False)\n",
    "        total_rewards_q.append(sum(q_sim_rewards))\n",
    "        terms_q.append(q_sim_term)\n",
    "        #print(\"q sim total reward: \" + str(sum(q_sim_rewards)) + \", q sim epochs: \" + str(q_sim_term))\n",
    "\n",
    "    \n",
    "    print(\"mean total rewards for random sim over \"+str(n_sim) +\" simulations: \" + str(np.mean(total_rewards_rand)))\n",
    "    print(\"mean total rewards for q sim over \"+str(n_sim) +\" simulations: \" + str(np.mean(total_rewards_q)))\n",
    "    print(\"mean term for random sim over \"+str(n_sim) +\" simulations: \"  + str(np.mean(terms_rand)))\n",
    "    print(\"mean term for q sim over \"+str(n_sim) +\" simulations: \"  + str(np.mean(terms_q)))\n",
    "\n",
    "\n",
    "run_tests()"
   ]
  },
  {
   "cell_type": "markdown",
   "metadata": {},
   "source": [
    "it appears that the q-learning version is much better than brute force search. At first when I saw these results, I thought maybe that there was a bias towards the Q-Learning algorithm that was not very generalizable, because of the way my cycles were being generated. Because of the way the Q-learning algorithm takes the argmax of the Q values as its action, which are initially all 0, this means that it will try each action in order, at least at the beginning of the algorithm. So if the cycle is also structured in a way that correlates with the node indices because of the way it is constructed, this could create a bias for the q-learning algorithm that is not real (because we should be able to permute the indices without changing the general results). \n",
    "But then I made sure to choose random indices when creating that cycle initially, and the same overall result remained, which was that the q-learning algorithm did much better. It had much higher rewards, and converged much quicker. \n",
    "To check for how it depends on different raph configurations, I looked at a graph where the total number of nodes was the same, but the cycle size was very large, or very small. Below are the results for (m=8,n=6), and (m=8,n=2)."
   ]
  },
  {
   "cell_type": "code",
   "execution_count": 219,
   "metadata": {},
   "outputs": [
    {
     "name": "stdout",
     "output_type": "stream",
     "text": [
      "mean total rewards for random sim over 100 simulations: 41.88\n",
      "mean total rewards for q sim over 100 simulations: 97.71\n",
      "mean term for random sim over 100 simulations: 17.8\n",
      "mean term for q sim over 100 simulations: 2.29\n"
     ]
    }
   ],
   "source": [
    "run_tests(2,n_sim=100)"
   ]
  },
  {
   "cell_type": "markdown",
   "metadata": {},
   "source": [
    "The improvement of q-learning over brute force method was more exaggerated for the case where the cycle was smaller relative to the graph. And the two strategies were closer when the cycle was larger relative to the graph. My interpretation of this is that if there is only a small cycle, then the cop should be able to have some concrete idea of how \"far\" they are from the robber, and therefore in many situations should be able to pick an action that moves the cop \"closer\" to the robber. Whereas if the graph is more cyclic, then there may be no way to make a move that guarantees the cop always gets closer to the robber."
   ]
  },
  {
   "cell_type": "markdown",
   "metadata": {
    "id": "ZDZuSjRS944s"
   },
   "source": [
    "> **Bonus** Check that the learned policy satsifies the [Bellman Inequality](https://towardsdatascience.com/mathematical-analysis-of-reinforcement-learning-bellman-equation-ac9f0954e19f), i.e is the computed solution the actual optimal policy?"
   ]
  },
  {
   "cell_type": "markdown",
   "metadata": {
    "id": "7BKvya8C_GJH"
   },
   "source": [
    "#TODO: Your code goes here.\n",
    "well, the solution depends on two parameters that I chose arbitrarily, gamma and alpha. So it is highly unlikely that this is truly the optimal policy. However, given a specific gamma and alpha, the policy satisfies the bellman inequality because the process is a markov decision process, which means that the optimal policy at a given state must have an expected utility equal to the expected utility from the current policy applied to the current state, plus the maximum expected utility at the next state. Since the policy is chosen as the highest value of Q for the given state, and the q table gets updated based on the best possible action from the subsequent state, this condition is satisfied according to our policy."
   ]
  }
 ],
 "metadata": {
  "colab": {
   "authorship_tag": "ABX9TyMu25Ay7SN5ZWySgfPySRxZ",
   "collapsed_sections": [],
   "include_colab_link": true,
   "mount_file_id": "1EXaYP-OTNO9eltRbwKEkUondRH_HxZgx",
   "name": "assign_6_ENGS_108_Fall_2020.ipynb",
   "provenance": [],
   "toc_visible": true
  },
  "kernelspec": {
   "display_name": "Python 2",
   "language": "python",
   "name": "python2"
  },
  "language_info": {
   "codemirror_mode": {
    "name": "ipython",
    "version": 2
   },
   "file_extension": ".py",
   "mimetype": "text/x-python",
   "name": "python",
   "nbconvert_exporter": "python",
   "pygments_lexer": "ipython2",
   "version": "2.7.17"
  }
 },
 "nbformat": 4,
 "nbformat_minor": 1
}
