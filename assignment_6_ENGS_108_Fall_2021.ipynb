{
 "cells": [
  {
   "cell_type": "markdown",
   "metadata": {
    "colab_type": "text",
    "id": "view-in-github"
   },
   "source": [
    "<a href=\"https://colab.research.google.com/github/yakaboskic/ENGS_108_Fall_2020/blob/master/assign_6_ENGS_108_Fall_2020.ipynb\" target=\"_parent\"><img src=\"https://colab.research.google.com/assets/colab-badge.svg\" alt=\"Open In Colab\"/></a>"
   ]
  },
  {
   "cell_type": "markdown",
   "metadata": {
    "id": "5BiHNk7HcRiL"
   },
   "source": [
    "# **ENGS 108 Fall 2021 Assignment 6**\n",
    "\n",
    "*Due October 23 2021\n",
    "\n",
    "**Instructors:** George Cybenko\n",
    "\n",
    "**TAs:** Clement Nyanhongo, Jack Sadoff\n",
    "\n",
    "\n",
    "---\n",
    "\n",
    "## **Rules and Requirements**\n",
    "\n",
    "\n",
    "1.   You are only allowed to use Python packages that are explicity imported in \n",
    "the assignment notebook or are standard (bultin) python libraries like random, os, sys, etc, (Standard Bultin Python libraries will have a Python.org documentation). For this assignment you may use:\n",
    "  *   [numpy](https://numpy.org/doc/stable/)\n",
    "  *   [pandas](https://pandas.pydata.org/pandas-docs/stable/index.html)\n",
    "  *   [scikit-learn](https://scikit-learn.org/stable/)\n",
    "  *   [matplotlib](https://matplotlib.org/)\n",
    "  *   [tensorflow](https://www.tensorflow.org/)\n",
    "\n",
    "2.   All code must be fit into the designated code or text blocks in the assignment notebook. They are indentified by a **TODO** qualifier.\n",
    "\n",
    "3. For analytical questions that don't require code, type your answer cleanly in Markdown. For help, see the [Google Colab Markdown Guide](https://colab.research.google.com/notebooks/markdown_guide.ipynb).\n",
    "\n",
    "---"
   ]
  },
  {
   "cell_type": "code",
   "execution_count": 1,
   "metadata": {
    "id": "_KqjPtWlcFnS"
   },
   "outputs": [],
   "source": [
    "''' Import Statements '''\n",
    "from collections import defaultdict\n",
    "import copy\n",
    "import itertools\n",
    "\n",
    "import random\n",
    "# Don't mess with this (gives reproducible results)\n",
    "random.seed(444)"
   ]
  },
  {
   "cell_type": "markdown",
   "metadata": {
    "id": "0otRQ4_CcxP4"
   },
   "source": [
    "## **Problem 1: Reinforcement Learning**\n",
    "In this problem we will play a game of cops and robbers. The game is played on a fixed undirected, simple, and finite graph $G$. There are two players, a cop and a robber. It is the goal of the cop to catch the robber in as few moves as possible. \n",
    "\n",
    "The graph $G$ has the following properties:\n",
    "  - A total of $m$ nodes.\n",
    "  - It contains a single $n$ node cycle, where $n\\leq m$, and random additional edges to make the graph connected.\n",
    "\n",
    "The game starts, with the cop taking their choice of vertex in $G$ and then the robber selects a random vertex in $G$ that is not occupied by the cop. At every point in the game both players know the positions of each other, and in this version of the problem we will say that the robber is drunk (i.e. they will randomly choose there next that instead of employing a policy).\n",
    "\n",
    "The availabe actions of the cop and associated reward function is:\n",
    "  - Move to a node not connected to their present node (and the cop stays in the current position): -5.\n",
    "  - Move to an adjacent node (including staying at current node): -1.\n",
    "  - Move to the node occupied by robber: +100.\n",
    ">\n",
    "> **Part 1** Building a Graph Class.\n",
    ">> **(a)** Using the provided skeleton build a general graph class for this problem for $n$ nodes. You are expected to implement *add_edge*, *make_random_graph*, *check_connected*."
   ]
  },
  {
   "cell_type": "code",
   "execution_count": 2,
   "metadata": {
    "id": "jaHjFProBqKc"
   },
   "outputs": [],
   "source": [
    "import collections\n",
    "import copy\n",
    "import random\n",
    "import collections\n",
    "import networkx as nx \n",
    "import matplotlib.pyplot as plt\n",
    "\n",
    "class Graph:\n",
    "  \"\"\" Our graph class.\n",
    "  Args:\n",
    "    n: Number of nodes in our cycle.\n",
    "    m: Total number of nodes in graph, where n >= m.\n",
    "  \"\"\"\n",
    "  def __init__(self, n, m):\n",
    "        \n",
    "    if (n > m):\n",
    "        raise Exception(\"n <= m must be true\")\n",
    "    self.n = n\n",
    "    self.m = m\n",
    "    \n",
    "    # A default dict is just a dict that won't raise a KeyError, it instead fills\n",
    "    # the unknown key with a default, in our case an empty list.\n",
    "    self.G = collections.defaultdict(list)\n",
    "\n",
    "  def add_edge(self, u, v):\n",
    "    \"\"\"\n",
    "    Make a function that will add an edge to the graph.\n",
    "    \"\"\"\n",
    "    if (u>self.m-1 or v>self.m-1):\n",
    "        raise Exception(\"node ids for new edge must both be less than \" + str(self.m))\n",
    "\n",
    "    self.G[u].append(v)\n",
    "\n",
    "\n",
    "  def make_random_graph(self):\n",
    "    \"\"\" First make a cycle of given length and then add random additional edges\n",
    "    in such a way that the final graph will be connected.\n",
    "    \"\"\"\n",
    "    #TODO: Make n length cycle first\n",
    "    count=0\n",
    "    #make a chain of the first n elements\n",
    "    for i in range(self.n-1):\n",
    "        self.G[i].append(i+1)\n",
    "    #connect head and tail of chain\n",
    "    self.G[self.n].append(0)\n",
    "    \n",
    "    \n",
    "    #TODO: Add additional nodes until random graph is connected\n",
    "    while True:\n",
    "      _graph = copy.copy(self)\n",
    "      uNew = random.randint(0,self.m-1)\n",
    "      vNew = random.randint(0,self.m-1)\n",
    "      _graph.G[uNew].append(vNew) if vNew not in _graph.G[uNew] else _graph.G[uNew]\n",
    "\n",
    "      if self.check_connected(_graph):\n",
    "        # If it is set the current graph's adjacency matrix equal to the copy's.\n",
    "        self.graph = _graph.G\n",
    "        # Return (i.e. break the loop)\n",
    "        return True\n",
    "\n",
    "  def check_connected(self, G):\n",
    "    \"\"\" Perform a Depth First Search.\n",
    "    \"\"\"\n",
    "    start_node = random.choice(list(G.G.keys()))\n",
    "    return dfs(G, [], start_node)\n",
    "\n",
    "#note that \"parent\" param is not strictly necessary\n",
    "#as long as we check whether a child node is already\n",
    "#in the listed of visited nodes before calling the \n",
    "#recursive function on it\n",
    "\n",
    "def dfs(G, visited, u):\n",
    "    \"\"\" Implement your own depth first search. Many online resources for this.\n",
    "    Args:\n",
    "    G: Is the graph (adjency matrix) we want to test.\n",
    "    visited: Is a dictionary that keeps track of the nodes you've visited.\n",
    "    u: a starting node.\n",
    "    Returns:\n",
    "    True: If all nodes have been visited at least once.\n",
    "    False: Otherwise.\n",
    "    \"\"\"\n",
    "    adjacent_nodes = G.G[u]\n",
    "    for node in adjacent_nodes:\n",
    "        if node not in visited:\n",
    "            visited.append(node)\n",
    "            dfs(G,visited,node)\n",
    "    if len(visited)==G.m:\n",
    "        return(True)\n",
    "    else: return(False)\n",
    "\n"
   ]
  },
  {
   "cell_type": "markdown",
   "metadata": {
    "id": "vc44XK7_JEYO"
   },
   "source": [
    ">> **(b)** Test out your graph class with a cops and robbers graph of $n=5$ and $m=10$."
   ]
  },
  {
   "cell_type": "code",
   "execution_count": 114,
   "metadata": {
    "id": "pKxMuq_7BkGP"
   },
   "outputs": [
    {
     "data": {
      "image/png": "[encoded data removed]",
      "text/plain": [
       "<matplotlib.figure.Figure at 0x7f8634b60710>"
      ]
     },
     "metadata": {},
     "output_type": "display_data"
    },
    {
     "name": "stdout",
     "output_type": "stream",
     "text": [
      "\n"
     ]
    }
   ],
   "source": [
    "g = Graph(5,10)\n",
    "g.make_random_graph()\n",
    "\n",
    "plotGraph = nx.DiGraph() \n",
    "\n",
    "for i in range(g.m): \n",
    " for j in range( g.m): \n",
    "   if j in g.G[i]: \n",
    "      plotGraph.add_edge(i,j) \n",
    "nx.draw( plotGraph) \n",
    "plt.show() "
   ]
  },
  {
   "cell_type": "markdown",
   "metadata": {
    "id": "xTuchWzJJaxk"
   },
   "source": [
    "> **Part 2** Understanding the state space, i.e. the Game.\n",
    ">> **(a)** Given the graph class you've created in Part 1. Develop a Cops and Robbers game class. Use the skeleton below to implement the following functions first: *get_successors*, *terminal_test*, *result*. \n"
   ]
  },
  {
   "cell_type": "code",
   "execution_count": 115,
   "metadata": {
    "id": "5qBoFrNDBT9y"
   },
   "outputs": [
    {
     "name": "stdout",
     "output_type": "stream",
     "text": [
      "state[0]: 1, state[1]: 1\n"
     ]
    },
    {
     "data": {
      "text/plain": [
       "True"
      ]
     },
     "execution_count": 115,
     "metadata": {},
     "output_type": "execute_result"
    }
   ],
   "source": [
    "class CopsAndRobbers:\n",
    "  def __init__(self, graph, start_state, rewards_table=None):\n",
    "    \"\"\" This is the cops and robbers game class.\n",
    "    Args:\n",
    "      start_state: The starting state of the cop position and robber position in\n",
    "        the graph. Should be a tuple of form (cop_pos, rob_pos).\n",
    "      G: The graph adjacency matrix\n",
    "      state: current state in the game.\n",
    "      reward_table: The (state, actions) reward dictionary that you will eventually implement.\n",
    "    \"\"\"\n",
    "    self.graph = graph\n",
    "    self.G = graph.G\n",
    "    self.state = start_state\n",
    "    self.rewards_table = rewards_table\n",
    "\n",
    "  def terminal_test(self, state):\n",
    "    \"\"\"test for terminal condition\"\"\"\n",
    "    if (state[0]==state[1]): \n",
    "        print(\"state[0]: \" + str(state[0]) + \", state[1]: \" + str(state[1]))\n",
    "        return(True)\n",
    "    else: return(False)\n",
    "    \n",
    "  def get_successors(self, state):\n",
    "    \"\"\" Return a list of successor states that can be reached from the current state.\n",
    "    Hint: Remember only the cop can choose their action.\n",
    "    \"\"\"\n",
    "    copNextStates = self.G[state[0]]\n",
    "    #cop should be able to stay still\n",
    "    copNextStates.append(state[0]) if state[0] not in copNextStates else copNextStates\n",
    "    \n",
    "    successorStates = []\n",
    "    for i in copNextStates:\n",
    "        successorStates.append((i,state[1]))\n",
    "    return(successorStates)\n",
    "\n",
    "  def get_successors_robber(self, state):\n",
    "    \"\"\" Return a list of successor states that can be reached from the current state after the robber moves.\n",
    "    \"\"\"\n",
    "    robNextStates = self.G[state[1]]\n",
    "    #cop should be able to stay still\n",
    "    robNextStates.append(state[1]) if state[1] not in robNextStates else robNextStates\n",
    "    \n",
    "    successorStates = []\n",
    "    for i in robNextStates:\n",
    "        successorStates.append((state[0],i))\n",
    "    return(successorStates)\n",
    "\n",
    "  def result(self, next_state):\n",
    "    \"\"\" This function should return the state after the cop has made their move,\n",
    "    and the drunk robber has moved accordingly.\n",
    "    Args:\n",
    "      state: Current state of (cop, rob).\n",
    "      next_state: The state after the cop has moved (next_cop, rob). Calculated from get_successors.\n",
    "    \"\"\"\n",
    "    \n",
    "    successorStates = self.get_successors_robber(next_state)\n",
    "    final_state = random.choice(successorStates)\n",
    "    self.state = final_state\n",
    "    return(final_state)\n",
    "\n",
    "    \n",
    "  def utility(self, state, action):\n",
    "    return self.rewards_table[(state, action)]\n",
    "\n",
    "CR = CopsAndRobbers(g,(0,1))\n",
    "CR.get_successors(CR.state)\n",
    "CR.terminal_test((1,1))"
   ]
  },
  {
   "cell_type": "markdown",
   "metadata": {
    "id": "x-YjCqNsXOKG"
   },
   "source": [
    ">> **(b)** In reinforcement learning we are often interested in calculating a rewards table that has possible states as its rows and possible actions as its columns and filled in with the associated reward given the Q(state, action) pair. Calculate the rewards table for any given graph. *Hint: This should be an $m^2$ x $m$ matrix or a dictionary with $m^3$ keys such that the keys are (state, action) tuples.*  "
   ]
  },
  {
   "cell_type": "code",
   "execution_count": 166,
   "metadata": {
    "id": "F61FjlM__wEg"
   },
   "outputs": [],
   "source": [
    "def calculateRewardsTable(graph):\n",
    "  \"\"\" Make a rewards table dictionary of the from table[(state, action)] = reward. recall:\n",
    "  The availabe actions of the cop and associated reward function is:\n",
    "\n",
    "  Move to a node not connected to their present node (and the cop stays in the current position): -5.\n",
    "  Move to an adjacent node (including staying at current node): -1.\n",
    "  Move to the node occupied by robber: +100.\n",
    "  \"\"\"\n",
    "  table = collections.defaultdict(list)\n",
    "  for c_state_ind in range(graph.m):\n",
    "    for r_state_ind in range(graph.m):\n",
    "        for action in range(graph.m):\n",
    "            reward = 0\n",
    "            cop_robber = (c_state_ind,r_state_ind)\n",
    "            if (action==r_state_ind):\n",
    "                reward=100\n",
    "            elif action in graph.G[c_state_ind]:\n",
    "                reward=-1\n",
    "            else:\n",
    "                reward = -5\n",
    "            table[(cop_robber,action)]=reward\n",
    "  return table\n",
    "\n"
   ]
  },
  {
   "cell_type": "markdown",
   "metadata": {
    "id": "EU0Hq2C8bocS"
   },
   "source": [
    ">> **(c)** Now that we have our reward table, try to solve the problem in a brute-force manner (without reinforcement learning). I.e. try to reach the terminal state, or find get a reward of 100. "
   ]
  },
  {
   "cell_type": "code",
   "execution_count": 169,
   "metadata": {
    "id": "GysY6hjZ_Iu5"
   },
   "outputs": [
    {
     "name": "stdout",
     "output_type": "stream",
     "text": [
      "defaultdict(<type 'list'>, {0: [1, 4, 0], 1: [2, 3, 6, 1], 2: [3, 2, 8, 7], 3: [4, 3], 4: [2, 4], 5: [0, 1, 2, 5], 6: [5, 9, 6], 7: [1, 3, 7], 8: [8, 1], 9: [9, 8, 6, 0], 10: [10], 11: [11], 12: [12], 13: [13], 14: [14], 15: [15], 17: [17], 18: [18], 19: [19], 23: [23], 28: [28], 29: [29], 31: [31], 34: [34], 35: [35], 36: [36], 37: [37], 38: [38]})\n",
      "epoch #1\n",
      "attempted to move cop from 2 to non-adjacent node 6\n",
      "next state: (2, 4)\n",
      "epoch #2\n",
      "attempted to move cop from 2 to non-adjacent node 0\n",
      "next state: (2, 4)\n",
      "epoch #3\n",
      "attempted to move cop from 2 to non-adjacent node 5\n",
      "next state: (2, 4)\n",
      "epoch #4\n",
      "attempted to move cop from 2 to non-adjacent node 0\n",
      "next state: (2, 2)\n",
      "state[0]: 2, state[1]: 2\n",
      "rewards: [-5, -5, -5, -5], # epochs to terminate: 4\n"
     ]
    }
   ],
   "source": [
    "\n",
    "print(str(g.G))\n",
    "rTable = calculateRewardsTable(g)\n",
    "cr = CopsAndRobbers(g,(2,3),rTable)\n",
    "def simulate_random(cr):\n",
    "# Simulation loop\n",
    "    epochs=0\n",
    "    rewards = []\n",
    "    penalties = 0\n",
    "    while True:\n",
    "      epochs=epochs+1\n",
    "      print(\"epoch #\" + str(epochs))\n",
    "      previousState = cr.state\n",
    "      #print('previousState: ' + str(previousState))\n",
    "      cSuccessors = cr.get_successors(previousState)\n",
    "      #get successor states where robber is the same as current (robber hasn't moved yet)\n",
    "      attemptedNextCopState = random.choice(range(cr.graph.m))\n",
    "      reward=rTable[(previousState,attemptedNextCopState)]\n",
    "      \n",
    "      nextStateWithoutRobberMoving = (attemptedNextCopState,previousState[1])\n",
    "      #if cop moved to non-adjacent node, reset their position\n",
    "      if reward==-5:\n",
    "        print(\"attempted to move cop from \" + str(previousState[0]) + \" to non-adjacent node \" + str(attemptedNextCopState))\n",
    "        nextStateWithoutRobberMoving = previousState\n",
    "      else:\n",
    "        print(\"moving cop from \" + str(previousState[0]) + \" to adjacent node \" + str(attemptedNextCopState))\n",
    "\n",
    "      \n",
    "      nextState = cr.result(nextStateWithoutRobberMoving)\n",
    "      rewards.append(reward)\n",
    "      print(\"next state: \" + str(nextState))\n",
    "      if (reward ==100):\n",
    "            print(\"found robber!\")\n",
    "      if (cr.terminal_test(nextState)):\n",
    "        break\n",
    "    return(rewards,epochs)\n",
    "\n",
    "rewards,term = simulate_random(cr)\n",
    "print(\"rewards: \" + str(rewards) + \", # epochs to terminate: \" + str(term))"
   ]
  },
  {
   "cell_type": "markdown",
   "metadata": {
    "id": "ec8eFd77jdiV"
   },
   "source": [
    "> **Part 3** Q-learning. \n",
    ">\n",
    "> Up to this point we have build a graph class, built a game class, ran a brute-force simulation of an agent traversing the space randomly, and now we will dive into Q-learning in the hopes of maximizing the rewards and efficiency of capturing the drunk robber. \n",
    ">\n",
    ">> **(a)** Using the skeleton from the brute force method, implement a training loop to learn a Q-table for a given graph and game. "
   ]
  },
  {
   "cell_type": "code",
   "execution_count": 147,
   "metadata": {
    "id": "FhpxYwKn-rIa"
   },
   "outputs": [],
   "source": [
    "class QTable:\n",
    "    def __init__(self,graph,alpha=.1,gamma=.1):\n",
    "        self.n_states = graph.m\n",
    "        self.RTable = calculateRewardsTable(graph)\n",
    "        #initialize q table\n",
    "        table = collections.defaultdict(list)\n",
    "        for c_state_ind in range(graph.m):\n",
    "            for r_state_ind in range(graph.m):\n",
    "                for action in range(graph.m):\n",
    "                    cop_robber = (c_state_ind,r_state_ind)\n",
    "                    table[(cop_robber,action)]=0\n",
    "        self.QTable = table\n",
    "        self.alpha = alpha\n",
    "        self.gamma = gamma\n",
    "        \n",
    "    def updateQTable(self,state,action):\n",
    "        oldQVal = self.QTable[state,action]\n",
    "        reward = self.RTable[state,action]\n",
    "        bestAction = None\n",
    "        highestQ = -1000000\n",
    "        nextStateCop = (action,state[1])\n",
    "        if (reward==-5):\n",
    "            print(\"can't go there!\")\n",
    "            nextStateCop = state\n",
    "        nextStateBoth = cr.result(nextStateCop)\n",
    "        for thisAction in range(self.n_states):\n",
    "            thisQ = self.QTable[nextStateBoth,thisAction]\n",
    "            if thisQ>highestQ:\n",
    "                highestQ = thisQ\n",
    "                bestAction = thisAction\n",
    "        print(\"self.alpha: \"+str(self.alpha)+ \", oldQVal: \" + str(oldQVal) + \", reward: \" + str(reward) + \", self.gamma: \" + str(self.gamma) + \", highestQ: \" + str(highestQ))\n",
    "        newQVal = (1-self.alpha)*oldQVal+self.alpha*(reward+self.gamma*highestQ)\n",
    "        print(\"setting new q value for state \"+str(state)+\" and action \" + str(action) +\": \" + str(newQVal))\n",
    "        self.QTable[state,action]=newQVal\n",
    "        return(newQVal)\n",
    "\n",
    "      \n",
    "    \n"
   ]
  },
  {
   "cell_type": "code",
   "execution_count": null,
   "metadata": {},
   "outputs": [],
   "source": []
  },
  {
   "cell_type": "markdown",
   "metadata": {
    "id": "6FVu7FlNk3IA"
   },
   "source": [
    ">> **(b)** Evalute your new Q-learning agent over a 100 epochs, by choosing your actions based on the argmax of the Q-table caluculated in (a) and report the average number of penalities, average time, and average number of steps it took to find the robber with your new Q-learning strategy. "
   ]
  },
  {
   "cell_type": "code",
   "execution_count": 150,
   "metadata": {
    "id": "zqnDZQ3C-1qE"
   },
   "outputs": [
    {
     "name": "stdout",
     "output_type": "stream",
     "text": [
      "defaultdict(<type 'list'>, {0: [1, 0], 1: [2, 8], 2: [3, 1, 5, 9], 3: [4, 0], 4: [0, 1], 5: [0, 9], 6: [6, 0], 7: [7], 8: [8, 7, 6], 9: []})\n"
     ]
    }
   ],
   "source": [
    "g2 = Graph(5,10)\n",
    "g2.make_random_graph()\n",
    "print(str(g2.G))"
   ]
  },
  {
   "cell_type": "code",
   "execution_count": 151,
   "metadata": {},
   "outputs": [
    {
     "name": "stdout",
     "output_type": "stream",
     "text": [
      "epoch #1\n",
      "previous state: (0, 1)\n",
      "best action: 0\n",
      "self.alpha: 0.5, oldQVal: 0, reward: -1, self.gamma: 0.5, highestQ: 0\n",
      "setting new q value for state (0, 1) and action 0: -0.5\n",
      "nextStateWithoutCopMoving: (0, 8), nextState[0]: 0\n",
      "epoch #2\n",
      "previous state: (0, 8)\n",
      "best action: 0\n",
      "self.alpha: 0.5, oldQVal: 0, reward: -1, self.gamma: 0.5, highestQ: 0\n",
      "setting new q value for state (0, 8) and action 0: -0.5\n",
      "nextStateWithoutCopMoving: (0, 7), nextState[0]: 0\n",
      "epoch #3\n",
      "previous state: (0, 7)\n",
      "best action: 0\n",
      "self.alpha: 0.5, oldQVal: 0, reward: -1, self.gamma: 0.5, highestQ: 0\n",
      "setting new q value for state (0, 7) and action 0: -0.5\n",
      "nextStateWithoutCopMoving: (0, 7), nextState[0]: 0\n",
      "epoch #4\n",
      "previous state: (0, 7)\n",
      "best action: 1\n",
      "self.alpha: 0.5, oldQVal: 0, reward: -1, self.gamma: 0.5, highestQ: 0\n",
      "setting new q value for state (0, 7) and action 1: -0.5\n",
      "nextStateWithoutCopMoving: (0, 7), nextState[0]: 1\n",
      "epoch #5\n",
      "previous state: (1, 7)\n",
      "best action: 0\n",
      "self.alpha: 0.5, oldQVal: 0, reward: -5, self.gamma: 0.5, highestQ: 0\n",
      "setting new q value for state (1, 7) and action 0: -2.5\n",
      "nextStateWithoutCopMoving: (1, 7), nextState[0]: 0\n",
      "epoch #6\n",
      "previous state: (0, 7)\n",
      "best action: 2\n",
      "self.alpha: 0.5, oldQVal: 0, reward: -5, self.gamma: 0.5, highestQ: 0\n",
      "setting new q value for state (0, 7) and action 2: -2.5\n",
      "nextStateWithoutCopMoving: (0, 7), nextState[0]: 2\n",
      "epoch #7\n",
      "previous state: (2, 7)\n",
      "best action: 0\n",
      "self.alpha: 0.5, oldQVal: 0, reward: -5, self.gamma: 0.5, highestQ: 0\n",
      "setting new q value for state (2, 7) and action 0: -2.5\n",
      "nextStateWithoutCopMoving: (2, 7), nextState[0]: 0\n",
      "epoch #8\n",
      "previous state: (0, 7)\n",
      "best action: 3\n",
      "self.alpha: 0.5, oldQVal: 0, reward: -5, self.gamma: 0.5, highestQ: 0\n",
      "setting new q value for state (0, 7) and action 3: -2.5\n",
      "nextStateWithoutCopMoving: (0, 7), nextState[0]: 3\n",
      "epoch #9\n",
      "previous state: (3, 7)\n",
      "best action: 0\n",
      "self.alpha: 0.5, oldQVal: 0, reward: -1, self.gamma: 0.5, highestQ: 0\n",
      "setting new q value for state (3, 7) and action 0: -0.5\n",
      "nextStateWithoutCopMoving: (3, 7), nextState[0]: 0\n",
      "epoch #10\n",
      "previous state: (0, 7)\n",
      "best action: 4\n",
      "self.alpha: 0.5, oldQVal: 0, reward: -5, self.gamma: 0.5, highestQ: 0\n",
      "setting new q value for state (0, 7) and action 4: -2.5\n",
      "nextStateWithoutCopMoving: (0, 7), nextState[0]: 4\n",
      "epoch #11\n",
      "previous state: (4, 7)\n",
      "best action: 0\n",
      "self.alpha: 0.5, oldQVal: 0, reward: -1, self.gamma: 0.5, highestQ: 0\n",
      "setting new q value for state (4, 7) and action 0: -0.5\n",
      "nextStateWithoutCopMoving: (4, 7), nextState[0]: 0\n",
      "epoch #12\n",
      "previous state: (0, 7)\n",
      "best action: 5\n",
      "self.alpha: 0.5, oldQVal: 0, reward: -5, self.gamma: 0.5, highestQ: 0\n",
      "setting new q value for state (0, 7) and action 5: -2.5\n",
      "nextStateWithoutCopMoving: (0, 7), nextState[0]: 5\n",
      "epoch #13\n",
      "previous state: (5, 7)\n",
      "best action: 0\n",
      "self.alpha: 0.5, oldQVal: 0, reward: -1, self.gamma: 0.5, highestQ: 0\n",
      "setting new q value for state (5, 7) and action 0: -0.5\n",
      "nextStateWithoutCopMoving: (5, 7), nextState[0]: 0\n",
      "epoch #14\n",
      "previous state: (0, 7)\n",
      "best action: 6\n",
      "self.alpha: 0.5, oldQVal: 0, reward: -5, self.gamma: 0.5, highestQ: 0\n",
      "setting new q value for state (0, 7) and action 6: -2.5\n",
      "nextStateWithoutCopMoving: (0, 7), nextState[0]: 6\n",
      "epoch #15\n",
      "previous state: (6, 7)\n",
      "best action: 0\n",
      "self.alpha: 0.5, oldQVal: 0, reward: -1, self.gamma: 0.5, highestQ: 0\n",
      "setting new q value for state (6, 7) and action 0: -0.5\n",
      "nextStateWithoutCopMoving: (6, 7), nextState[0]: 0\n",
      "epoch #16\n",
      "previous state: (0, 7)\n",
      "best action: 7\n",
      "self.alpha: 0.5, oldQVal: 0, reward: 100, self.gamma: 0.5, highestQ: 0\n",
      "setting new q value for state (0, 7) and action 7: 50.0\n",
      "nextStateWithoutCopMoving: (0, 7), nextState[0]: 7\n",
      "state[0]: 7, state[1]: 7\n",
      "rewards: [-1, -1, -1, -1, -5, -5, -5, -5, -1, -5, -1, -5, -1, -5, -1, 100], epochs to terminate: 16\n"
     ]
    }
   ],
   "source": [
    "rTable2 = calculateRewardsTable(g2)\n",
    "cr2 = CopsAndRobbers(g2,(0,1),rTable2)\n",
    "def QLearningSim(cr_temp):\n",
    "    epochs = 0\n",
    "    rewards = []\n",
    "    penalties = 0\n",
    "    qTable= QTable(cr_temp.graph,alpha=.5,gamma=.5)\n",
    "    # Simulation loop\n",
    "    while True:\n",
    "      epochs=epochs+1\n",
    "      print(\"epoch #\" + str(epochs))\n",
    "      previousState = cr_temp.state\n",
    "      print(\"previous state: \" + str(previousState))\n",
    "      bestQVal = -10000\n",
    "      bestAction = None\n",
    "      for i in range(cr_temp.graph.m):\n",
    "            qVal = qTable.QTable[previousState,i]\n",
    "            if qVal>bestQVal:\n",
    "                bestQVal = qVal\n",
    "                bestAction = i\n",
    "\n",
    "      print(\"best action: \" + str(bestAction))\n",
    "      #calculate reward based on previous state of cops, next state of robber, and action (new state of cop)\n",
    "      nextStateWithoutRobberMoving = (bestAction, previousState[1]) #this is for a random cop\n",
    "      #print(\"nextStateWithoutRobberMoving: \" + str(nextStateWithoutRobberMoving))\n",
    "      nextState = cr_temp.result(nextStateWithoutRobberMoving)\n",
    "      qTable.updateQTable(previousState,bestAction)\n",
    "      nextStateWithoutCopMoving = (previousState[0],nextState[1])\n",
    "      #calculate reward based on previous state of cops and robbers and new state of cop\n",
    "      print(\"nextStateWithoutCopMoving: \" + str(nextStateWithoutCopMoving) + \", nextState[0]: \" + str(nextState[0]))\n",
    "      reward=rTable2[(nextStateWithoutCopMoving,nextState[0])]\n",
    "      rewards.append(reward)\n",
    "      if (cr_temp.terminal_test(nextState)):\n",
    "        break\n",
    "    return(rewards,epochs)\n",
    "rewards, term = QLearningSim(cr2)\n",
    "print(\"rewards: \" + str(rewards) + \", epochs to terminate: \" + str(term))"
   ]
  },
  {
   "cell_type": "markdown",
   "metadata": {
    "id": "CrpB9jKolvH_"
   },
   "source": [
    ">> **(c)** Compare your results with the brute-force method used in Part 2 and comment on the improvement. For instance, try varying graph configurations and look for any signs of improvement in certian instances. "
   ]
  },
  {
   "cell_type": "code",
   "execution_count": 67,
   "metadata": {
    "id": "l6b7G2mB_FIr"
   },
   "outputs": [
    {
     "data": {
      "image/png": "[encoded data removed]",
      "text/plain": [
       "<matplotlib.figure.Figure at 0x7f8634b60e90>"
      ]
     },
     "metadata": {},
     "output_type": "display_data"
    },
    {
     "ename": "NameError",
     "evalue": "name 'simulate_random' is not defined",
     "output_type": "error",
     "traceback": [
      "\u001b[0;31m------------------------------------------------------------------\u001b[0m",
      "\u001b[0;31mNameError\u001b[0m                        Traceback (most recent call last)",
      "\u001b[0;32m<ipython-input-67-a119c7466c10>\u001b[0m in \u001b[0;36m<module>\u001b[0;34m()\u001b[0m\n\u001b[1;32m     11\u001b[0m \u001b[0mrTable\u001b[0m \u001b[0;34m=\u001b[0m \u001b[0mcalculateRewardsTable\u001b[0m\u001b[0;34m(\u001b[0m\u001b[0mg\u001b[0m\u001b[0;34m)\u001b[0m\u001b[0;34m\u001b[0m\u001b[0m\n\u001b[1;32m     12\u001b[0m \u001b[0mcr\u001b[0m \u001b[0;34m=\u001b[0m \u001b[0mCopsAndRobbers\u001b[0m\u001b[0;34m(\u001b[0m\u001b[0mg\u001b[0m\u001b[0;34m,\u001b[0m\u001b[0;34m(\u001b[0m\u001b[0;36m0\u001b[0m\u001b[0;34m,\u001b[0m\u001b[0;36m1\u001b[0m\u001b[0;34m)\u001b[0m\u001b[0;34m,\u001b[0m\u001b[0mrTable\u001b[0m\u001b[0;34m)\u001b[0m\u001b[0;34m\u001b[0m\u001b[0m\n\u001b[0;32m---> 13\u001b[0;31m \u001b[0msimulate_random\u001b[0m\u001b[0;34m(\u001b[0m\u001b[0mcr\u001b[0m\u001b[0;34m)\u001b[0m\u001b[0;34m\u001b[0m\u001b[0m\n\u001b[0m",
      "\u001b[0;31mNameError\u001b[0m: name 'simulate_random' is not defined"
     ]
    }
   ],
   "source": [
    "simulate_random(cr2)"
   ]
  },
  {
   "cell_type": "markdown",
   "metadata": {
    "id": "ZDZuSjRS944s"
   },
   "source": [
    "> **Bonus** Check that the learned policy satsifies the [Bellman Inequality](https://towardsdatascience.com/mathematical-analysis-of-reinforcement-learning-bellman-equation-ac9f0954e19f), i.e is the computed solution the actual optimal policy?"
   ]
  },
  {
   "cell_type": "code",
   "execution_count": null,
   "metadata": {
    "id": "7BKvya8C_GJH"
   },
   "outputs": [],
   "source": [
    "#TODO: Your code goes here."
   ]
  }
 ],
 "metadata": {
  "colab": {
   "authorship_tag": "ABX9TyMu25Ay7SN5ZWySgfPySRxZ",
   "collapsed_sections": [],
   "include_colab_link": true,
   "mount_file_id": "1EXaYP-OTNO9eltRbwKEkUondRH_HxZgx",
   "name": "assign_6_ENGS_108_Fall_2020.ipynb",
   "provenance": [],
   "toc_visible": true
  },
  "kernelspec": {
   "display_name": "Python 2",
   "language": "python",
   "name": "python2"
  },
  "language_info": {
   "codemirror_mode": {
    "name": "ipython",
    "version": 2
   },
   "file_extension": ".py",
   "mimetype": "text/x-python",
   "name": "python",
   "nbconvert_exporter": "python",
   "pygments_lexer": "ipython2",
   "version": "2.7.17"
  }
 },
 "nbformat": 4,
 "nbformat_minor": 1
}
